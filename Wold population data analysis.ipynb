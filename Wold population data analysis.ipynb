{
 "cells": [
  {
   "cell_type": "code",
   "execution_count": 1,
   "id": "bde6e36f",
   "metadata": {},
   "outputs": [],
   "source": [
    "import pandas as pd "
   ]
  },
  {
   "cell_type": "code",
   "execution_count": 2,
   "id": "5aa667b1",
   "metadata": {},
   "outputs": [
    {
     "data": {
      "text/html": [
       "<div>\n",
       "<style scoped>\n",
       "    .dataframe tbody tr th:only-of-type {\n",
       "        vertical-align: middle;\n",
       "    }\n",
       "\n",
       "    .dataframe tbody tr th {\n",
       "        vertical-align: top;\n",
       "    }\n",
       "\n",
       "    .dataframe thead th {\n",
       "        text-align: right;\n",
       "    }\n",
       "</style>\n",
       "<table border=\"1\" class=\"dataframe\">\n",
       "  <thead>\n",
       "    <tr style=\"text-align: right;\">\n",
       "      <th></th>\n",
       "      <th>Rank</th>\n",
       "      <th>CCA3</th>\n",
       "      <th>Country/Territory</th>\n",
       "      <th>Capital</th>\n",
       "      <th>Continent</th>\n",
       "      <th>2022 Population</th>\n",
       "      <th>2020 Population</th>\n",
       "      <th>2015 Population</th>\n",
       "      <th>2010 Population</th>\n",
       "      <th>2000 Population</th>\n",
       "      <th>1990 Population</th>\n",
       "      <th>1980 Population</th>\n",
       "      <th>1970 Population</th>\n",
       "      <th>Area (km²)</th>\n",
       "      <th>Density (per km²)</th>\n",
       "      <th>Growth Rate</th>\n",
       "      <th>World Population Percentage</th>\n",
       "    </tr>\n",
       "  </thead>\n",
       "  <tbody>\n",
       "    <tr>\n",
       "      <th>0</th>\n",
       "      <td>36</td>\n",
       "      <td>AFG</td>\n",
       "      <td>Afghanistan</td>\n",
       "      <td>Kabul</td>\n",
       "      <td>Asia</td>\n",
       "      <td>41128771</td>\n",
       "      <td>38972230</td>\n",
       "      <td>33753499</td>\n",
       "      <td>28189672</td>\n",
       "      <td>19542982</td>\n",
       "      <td>10694796</td>\n",
       "      <td>12486631</td>\n",
       "      <td>10752971</td>\n",
       "      <td>652230</td>\n",
       "      <td>63.0587</td>\n",
       "      <td>1.0257</td>\n",
       "      <td>0.52</td>\n",
       "    </tr>\n",
       "    <tr>\n",
       "      <th>1</th>\n",
       "      <td>138</td>\n",
       "      <td>ALB</td>\n",
       "      <td>Albania</td>\n",
       "      <td>Tirana</td>\n",
       "      <td>Europe</td>\n",
       "      <td>2842321</td>\n",
       "      <td>2866849</td>\n",
       "      <td>2882481</td>\n",
       "      <td>2913399</td>\n",
       "      <td>3182021</td>\n",
       "      <td>3295066</td>\n",
       "      <td>2941651</td>\n",
       "      <td>2324731</td>\n",
       "      <td>28748</td>\n",
       "      <td>98.8702</td>\n",
       "      <td>0.9957</td>\n",
       "      <td>0.04</td>\n",
       "    </tr>\n",
       "    <tr>\n",
       "      <th>2</th>\n",
       "      <td>34</td>\n",
       "      <td>DZA</td>\n",
       "      <td>Algeria</td>\n",
       "      <td>Algiers</td>\n",
       "      <td>Africa</td>\n",
       "      <td>44903225</td>\n",
       "      <td>43451666</td>\n",
       "      <td>39543154</td>\n",
       "      <td>35856344</td>\n",
       "      <td>30774621</td>\n",
       "      <td>25518074</td>\n",
       "      <td>18739378</td>\n",
       "      <td>13795915</td>\n",
       "      <td>2381741</td>\n",
       "      <td>18.8531</td>\n",
       "      <td>1.0164</td>\n",
       "      <td>0.56</td>\n",
       "    </tr>\n",
       "    <tr>\n",
       "      <th>3</th>\n",
       "      <td>213</td>\n",
       "      <td>ASM</td>\n",
       "      <td>American Samoa</td>\n",
       "      <td>Pago Pago</td>\n",
       "      <td>Oceania</td>\n",
       "      <td>44273</td>\n",
       "      <td>46189</td>\n",
       "      <td>51368</td>\n",
       "      <td>54849</td>\n",
       "      <td>58230</td>\n",
       "      <td>47818</td>\n",
       "      <td>32886</td>\n",
       "      <td>27075</td>\n",
       "      <td>199</td>\n",
       "      <td>222.4774</td>\n",
       "      <td>0.9831</td>\n",
       "      <td>0.00</td>\n",
       "    </tr>\n",
       "    <tr>\n",
       "      <th>4</th>\n",
       "      <td>203</td>\n",
       "      <td>AND</td>\n",
       "      <td>Andorra</td>\n",
       "      <td>Andorra la Vella</td>\n",
       "      <td>Europe</td>\n",
       "      <td>79824</td>\n",
       "      <td>77700</td>\n",
       "      <td>71746</td>\n",
       "      <td>71519</td>\n",
       "      <td>66097</td>\n",
       "      <td>53569</td>\n",
       "      <td>35611</td>\n",
       "      <td>19860</td>\n",
       "      <td>468</td>\n",
       "      <td>170.5641</td>\n",
       "      <td>1.0100</td>\n",
       "      <td>0.00</td>\n",
       "    </tr>\n",
       "  </tbody>\n",
       "</table>\n",
       "</div>"
      ],
      "text/plain": [
       "   Rank CCA3 Country/Territory           Capital Continent  2022 Population  \\\n",
       "0    36  AFG       Afghanistan             Kabul      Asia         41128771   \n",
       "1   138  ALB           Albania            Tirana    Europe          2842321   \n",
       "2    34  DZA           Algeria           Algiers    Africa         44903225   \n",
       "3   213  ASM    American Samoa         Pago Pago   Oceania            44273   \n",
       "4   203  AND           Andorra  Andorra la Vella    Europe            79824   \n",
       "\n",
       "   2020 Population  2015 Population  2010 Population  2000 Population  \\\n",
       "0         38972230         33753499         28189672         19542982   \n",
       "1          2866849          2882481          2913399          3182021   \n",
       "2         43451666         39543154         35856344         30774621   \n",
       "3            46189            51368            54849            58230   \n",
       "4            77700            71746            71519            66097   \n",
       "\n",
       "   1990 Population  1980 Population  1970 Population  Area (km²)  \\\n",
       "0         10694796         12486631         10752971      652230   \n",
       "1          3295066          2941651          2324731       28748   \n",
       "2         25518074         18739378         13795915     2381741   \n",
       "3            47818            32886            27075         199   \n",
       "4            53569            35611            19860         468   \n",
       "\n",
       "   Density (per km²)  Growth Rate  World Population Percentage  \n",
       "0            63.0587       1.0257                         0.52  \n",
       "1            98.8702       0.9957                         0.04  \n",
       "2            18.8531       1.0164                         0.56  \n",
       "3           222.4774       0.9831                         0.00  \n",
       "4           170.5641       1.0100                         0.00  "
      ]
     },
     "execution_count": 2,
     "metadata": {},
     "output_type": "execute_result"
    }
   ],
   "source": [
    "df = pd.read_csv('world_population.csv')\n",
    "df.head()"
   ]
  },
  {
   "cell_type": "code",
   "execution_count": 3,
   "id": "9b24868e",
   "metadata": {},
   "outputs": [
    {
     "data": {
      "text/plain": [
       "Rank                           0\n",
       "CCA3                           0\n",
       "Country/Territory              0\n",
       "Capital                        0\n",
       "Continent                      0\n",
       "2022 Population                0\n",
       "2020 Population                0\n",
       "2015 Population                0\n",
       "2010 Population                0\n",
       "2000 Population                0\n",
       "1990 Population                0\n",
       "1980 Population                0\n",
       "1970 Population                0\n",
       "Area (km²)                     0\n",
       "Density (per km²)              0\n",
       "Growth Rate                    0\n",
       "World Population Percentage    0\n",
       "dtype: int64"
      ]
     },
     "execution_count": 3,
     "metadata": {},
     "output_type": "execute_result"
    }
   ],
   "source": [
    "df.isnull().sum()"
   ]
  },
  {
   "cell_type": "code",
   "execution_count": 4,
   "id": "47b2d8e8",
   "metadata": {},
   "outputs": [
    {
     "data": {
      "text/plain": [
       "Rank                             int64\n",
       "CCA3                            object\n",
       "Country/Territory               object\n",
       "Capital                         object\n",
       "Continent                       object\n",
       "2022 Population                  int64\n",
       "2020 Population                  int64\n",
       "2015 Population                  int64\n",
       "2010 Population                  int64\n",
       "2000 Population                  int64\n",
       "1990 Population                  int64\n",
       "1980 Population                  int64\n",
       "1970 Population                  int64\n",
       "Area (km²)                       int64\n",
       "Density (per km²)              float64\n",
       "Growth Rate                    float64\n",
       "World Population Percentage    float64\n",
       "dtype: object"
      ]
     },
     "execution_count": 4,
     "metadata": {},
     "output_type": "execute_result"
    }
   ],
   "source": [
    "df.dtypes"
   ]
  },
  {
   "cell_type": "code",
   "execution_count": 5,
   "id": "e99008fc",
   "metadata": {},
   "outputs": [
    {
     "data": {
      "text/plain": [
       "Africa           57\n",
       "Asia             50\n",
       "Europe           50\n",
       "North America    40\n",
       "Oceania          23\n",
       "South America    14\n",
       "Name: Continent, dtype: int64"
      ]
     },
     "execution_count": 5,
     "metadata": {},
     "output_type": "execute_result"
    }
   ],
   "source": [
    "df['Continent'].value_counts()"
   ]
  },
  {
   "cell_type": "code",
   "execution_count": 6,
   "id": "c8dbf794",
   "metadata": {},
   "outputs": [
    {
     "data": {
      "text/plain": [
       "234"
      ]
     },
     "execution_count": 6,
     "metadata": {},
     "output_type": "execute_result"
    }
   ],
   "source": [
    "df['Country/Territory'].nunique()"
   ]
  },
  {
   "cell_type": "code",
   "execution_count": 7,
   "id": "e2d11764",
   "metadata": {},
   "outputs": [],
   "source": [
    "max_countrys=[]\n",
    "max_populations=[]\n",
    "columns=['2022 Population', '2020 Population', '2015 Population', '2010 Population', '2000 Population', '1990 Population', '1980 Population', '1970 Population']\n",
    "for year in columns:\n",
    "    max_country=df.loc[df[year].idxmax()]['Country/Territory']\n",
    "    max_population=df[year].max()\n",
    "    max_countrys.append(max_country)\n",
    "    max_populations.append(max_population)\n",
    "     "
   ]
  },
  {
   "cell_type": "code",
   "execution_count": 8,
   "id": "f97ee49a",
   "metadata": {},
   "outputs": [
    {
     "name": "stdout",
     "output_type": "stream",
     "text": [
      "['China', 'China', 'China', 'China', 'China', 'China', 'China', 'China']\n",
      "[1425887337, 1424929781, 1393715448, 1348191368, 1264099069, 1153704252, 982372466, 822534450]\n"
     ]
    }
   ],
   "source": [
    "print(max_countrys)\n",
    "print(max_populations)"
   ]
  },
  {
   "cell_type": "markdown",
   "id": "74638811",
   "metadata": {},
   "source": [
    "#### china has all time high population "
   ]
  },
  {
   "cell_type": "code",
   "execution_count": 9,
   "id": "851762b3",
   "metadata": {},
   "outputs": [],
   "source": [
    "world_population = []\n",
    "for years in columns:\n",
    "    world_population.append(sum(df[years]))"
   ]
  },
  {
   "cell_type": "code",
   "execution_count": 10,
   "id": "9ae606be",
   "metadata": {},
   "outputs": [
    {
     "data": {
      "text/plain": [
       "[7973413042,\n",
       " 7839250603,\n",
       " 7424809761,\n",
       " 6983784998,\n",
       " 6147055703,\n",
       " 5314191665,\n",
       " 4442400371,\n",
       " 3694136661]"
      ]
     },
     "execution_count": 10,
     "metadata": {},
     "output_type": "execute_result"
    }
   ],
   "source": [
    "world_population\n"
   ]
  },
  {
   "cell_type": "code",
   "execution_count": 18,
   "id": "b5428968",
   "metadata": {},
   "outputs": [],
   "source": [
    "# world_population.reverse()"
   ]
  },
  {
   "cell_type": "code",
   "execution_count": 19,
   "id": "076901a8",
   "metadata": {},
   "outputs": [],
   "source": [
    "import matplotlib.pyplot as plt"
   ]
  },
  {
   "cell_type": "code",
   "execution_count": 58,
   "id": "c892bbfb",
   "metadata": {
    "scrolled": false
   },
   "outputs": [
    {
     "data": {
      "image/png": "[encoded data removed]",
      "text/plain": [
       "<Figure size 1080x432 with 1 Axes>"
      ]
     },
     "metadata": {
      "needs_background": "light"
     },
     "output_type": "display_data"
    }
   ],
   "source": [
    "# columns.reverse()\n",
    "plt.figure(figsize=(15,6))\n",
    "labels=columns\n",
    "plt.plot(labels,world_population, marker='o', linestyle='--')\n",
    "plt.xlabel('Years')\n",
    "plt.ylabel('Population')\n",
    "plt.grid()\n",
    "plt.show()"
   ]
  },
  {
   "cell_type": "markdown",
   "id": "7a23d6ff",
   "metadata": {},
   "source": [
    "#### World population change "
   ]
  },
  {
   "cell_type": "code",
   "execution_count": 52,
   "id": "a9f51b44",
   "metadata": {},
   "outputs": [],
   "source": [
    "current_pop=sum(df['2022 Population'])"
   ]
  },
  {
   "cell_type": "code",
   "execution_count": 64,
   "id": "f0624aa0",
   "metadata": {},
   "outputs": [],
   "source": [
    "growth_rate=[]\n",
    "for year in columns:\n",
    "    growth_rate.append((current_pop-sum(df[year]))/sum(df[year])*100)\n",
    "    "
   ]
  },
  {
   "cell_type": "code",
   "execution_count": 65,
   "id": "ae50d8c8",
   "metadata": {
    "scrolled": true
   },
   "outputs": [
    {
     "data": {
      "text/plain": [
       "[115.83968796220991,\n",
       " 79.484341259524,\n",
       " 50.039997512961364,\n",
       " 29.711091410944384,\n",
       " 14.170368135379416,\n",
       " 7.388785688242498,\n",
       " 1.711419187806771,\n",
       " 0.0]"
      ]
     },
     "execution_count": 65,
     "metadata": {},
     "output_type": "execute_result"
    }
   ],
   "source": [
    "growth_rate"
   ]
  },
  {
   "cell_type": "code",
   "execution_count": 67,
   "id": "5e45f50c",
   "metadata": {},
   "outputs": [
    {
     "data": {
      "image/png": "[encoded data removed]",
      "text/plain": [
       "<Figure size 1080x432 with 1 Axes>"
      ]
     },
     "metadata": {
      "needs_background": "light"
     },
     "output_type": "display_data"
    }
   ],
   "source": [
    "plt.figure(figsize=(15,6))\n",
    "plt.plot(labels, growth_rate, marker='o', linestyle='--')\n",
    "plt.grid()\n",
    "plt.gray()\n",
    "plt.show()"
   ]
  },
  {
   "cell_type": "markdown",
   "id": "d071daf8",
   "metadata": {},
   "source": [
    "#### World Population growth rate change"
   ]
  },
  {
   "cell_type": "code",
   "execution_count": 21,
   "id": "579437c5",
   "metadata": {},
   "outputs": [
    {
     "name": "stdout",
     "output_type": "stream",
     "text": [
      "maximum density of population has  Macau\n",
      "Having density is  23172.2667\n"
     ]
    }
   ],
   "source": [
    "max_density_country=df.loc[df['Density (per km²)'].idxmax()]['Country/Territory']\n",
    "max_density=df['Density (per km²)'].max()\n",
    "print(\"maximum density of population has  \" +max_density_country)\n",
    "print(\"Having density is  \"+str(max_density))"
   ]
  },
  {
   "cell_type": "markdown",
   "id": "35c69b4f",
   "metadata": {},
   "source": [
    "#### maximum density of population has  'Macau' Having density is  23172.2667\n"
   ]
  },
  {
   "cell_type": "code",
   "execution_count": 22,
   "id": "4392475b",
   "metadata": {},
   "outputs": [
    {
     "name": "stdout",
     "output_type": "stream",
     "text": [
      "Minimum density of population has  Greenland\n",
      "Having density is  0.0261\n"
     ]
    }
   ],
   "source": [
    "min_density_country=df.loc[df['Density (per km²)'].idxmin()]['Country/Territory']\n",
    "min_density=df['Density (per km²)'].min()\n",
    "print(\"Minimum density of population has  \" +min_density_country)\n",
    "print(\"Having density is  \"+str(min_density))"
   ]
  },
  {
   "cell_type": "markdown",
   "id": "383cae71",
   "metadata": {},
   "source": [
    "#### Minimum density of population has  Greenland Having density is  0.0261\n"
   ]
  },
  {
   "cell_type": "code",
   "execution_count": 23,
   "id": "987e8645",
   "metadata": {
    "scrolled": true
   },
   "outputs": [
    {
     "name": "stdout",
     "output_type": "stream",
     "text": [
      "Maximum Growth Rate of population has  Moldova\n",
      "Having Growth Rate is  1.0691\n"
     ]
    }
   ],
   "source": [
    "max_Growth_Rate_country=df.loc[df['Growth Rate'].idxmax()]['Country/Territory']\n",
    "max_Growth_Rate=df['Growth Rate'].max()\n",
    "print(\"Maximum Growth Rate of population has  \" +max_Growth_Rate_country)\n",
    "print(\"Having Growth Rate is  \"+str(max_Growth_Rate))"
   ]
  },
  {
   "cell_type": "markdown",
   "id": "7459c3c9",
   "metadata": {},
   "source": [
    "#### Maximum Growth Rate of population has  'Moldova' Having Growth Rate is  1.0691\n"
   ]
  },
  {
   "cell_type": "code",
   "execution_count": 24,
   "id": "5fb9df85",
   "metadata": {},
   "outputs": [
    {
     "name": "stdout",
     "output_type": "stream",
     "text": [
      "Minimum Growth Rate of population has  Ukraine\n",
      "Having Growth Rate is  0.912\n"
     ]
    }
   ],
   "source": [
    "min_Growth_Rate_country=df.loc[df['Growth Rate'].idxmin()]['Country/Territory']\n",
    "min_Growth_Rate=df['Growth Rate'].min()\n",
    "print(\"Minimum Growth Rate of population has  \" +min_Growth_Rate_country)\n",
    "print(\"Having Growth Rate is  \"+str(min_Growth_Rate))"
   ]
  },
  {
   "cell_type": "markdown",
   "id": "9ac18ad3",
   "metadata": {},
   "source": [
    "#### Minimum Growth Rate of population has  'Ukraine' Having Growth Rate is  0.912\n"
   ]
  },
  {
   "cell_type": "code",
   "execution_count": 25,
   "id": "42fae565",
   "metadata": {},
   "outputs": [
    {
     "name": "stdout",
     "output_type": "stream",
     "text": [
      "Minimum Area Country is  Vatican City\n",
      "Having Area is  1\n"
     ]
    }
   ],
   "source": [
    "min_Area_country=df.loc[df['Area (km²)'].idxmin()]['Country/Territory']\n",
    "min_Area_Rate=df['Area (km²)'].min()\n",
    "print(\"Minimum Area Country is  \" +min_Area_country)\n",
    "print(\"Having Area is  \"+str(min_Area_Rate))"
   ]
  },
  {
   "cell_type": "markdown",
   "id": "662bb1fc",
   "metadata": {},
   "source": [
    "#### Minimum Area Country is  'Vatican City'  Having Area is  1 square km\n"
   ]
  },
  {
   "cell_type": "code",
   "execution_count": 26,
   "id": "609594a1",
   "metadata": {},
   "outputs": [
    {
     "name": "stdout",
     "output_type": "stream",
     "text": [
      "Maximum Area Country is  Russia\n",
      "Having Area is  17098242\n"
     ]
    }
   ],
   "source": [
    "max_Area_country=df.loc[df['Area (km²)'].idxmax()]['Country/Territory']\n",
    "max_Area_Rate=df['Area (km²)'].max()\n",
    "print(\"Maximum Area Country is  \" +max_Area_country)\n",
    "print(\"Having Area is  \"+str(max_Area_Rate))"
   ]
  },
  {
   "cell_type": "markdown",
   "id": "74a32c69",
   "metadata": {},
   "source": [
    "#### Maximum Area Country is  'Russia' Having Area is  17098242\n"
   ]
  },
  {
   "cell_type": "code",
   "execution_count": 27,
   "id": "c6e5ce11",
   "metadata": {},
   "outputs": [],
   "source": [
    "group_Continent=df.groupby('Continent').agg({'2022 Population':'sum', '2020 Population':'sum', '2015 Population':'sum', '2010 Population':'sum', '2000 Population':'sum', '1990 Population':'sum', '1980 Population':'sum', '1970 Population':'sum'})"
   ]
  },
  {
   "cell_type": "code",
   "execution_count": 28,
   "id": "4788f543",
   "metadata": {},
   "outputs": [],
   "source": [
    "group_Continent=group_Continent.reset_index()"
   ]
  },
  {
   "cell_type": "code",
   "execution_count": 29,
   "id": "48624faf",
   "metadata": {},
   "outputs": [
    {
     "data": {
      "image/png": "[encoded data removed]",
      "text/plain": [
       "<Figure size 1080x432 with 1 Axes>"
      ]
     },
     "metadata": {
      "needs_background": "light"
     },
     "output_type": "display_data"
    }
   ],
   "source": [
    "\n",
    "continents = group_Continent['Continent']\n",
    "\n",
    "years = group_Continent.columns[1:]\n",
    "\n",
    "plt.figure(figsize=(15, 6))\n",
    "\n",
    "for i, continent in enumerate(continents):\n",
    "    data_row = group_Continent.iloc[i, 1:][::-1] \n",
    "    plt.plot(years[::-1], data_row, label=continent, marker='o')\n",
    "\n",
    "plt.xlabel('Year')\n",
    "plt.ylabel('Population')\n",
    "plt.title('Population of Continents Over the Years')\n",
    "plt.legend()\n",
    "plt.grid()\n",
    "\n",
    "plt.show()"
   ]
  },
  {
   "cell_type": "markdown",
   "id": "971107a6",
   "metadata": {},
   "source": [
    "#### Population of Continents Over the Years"
   ]
  },
  {
   "cell_type": "code",
   "execution_count": 32,
   "id": "bd796fb7",
   "metadata": {},
   "outputs": [],
   "source": [
    "# group the dataframe by continent\n",
    "group_Continent_by_density=df.groupby('Continent').agg({'2022 Population':'sum', 'Area (km²)':'sum'}).reset_index()"
   ]
  },
  {
   "cell_type": "code",
   "execution_count": 36,
   "id": "203b9d9a",
   "metadata": {},
   "outputs": [],
   "source": [
    "# make new column for continent density\n",
    "group_Continent_by_density['Continent Density']=group_Continent_by_density['2022 Population']/group_Continent_by_density['Area (km²)']"
   ]
  },
  {
   "cell_type": "code",
   "execution_count": 37,
   "id": "92455a6e",
   "metadata": {},
   "outputs": [
    {
     "data": {
      "text/html": [
       "<div>\n",
       "<style scoped>\n",
       "    .dataframe tbody tr th:only-of-type {\n",
       "        vertical-align: middle;\n",
       "    }\n",
       "\n",
       "    .dataframe tbody tr th {\n",
       "        vertical-align: top;\n",
       "    }\n",
       "\n",
       "    .dataframe thead th {\n",
       "        text-align: right;\n",
       "    }\n",
       "</style>\n",
       "<table border=\"1\" class=\"dataframe\">\n",
       "  <thead>\n",
       "    <tr style=\"text-align: right;\">\n",
       "      <th></th>\n",
       "      <th>Continent</th>\n",
       "      <th>2022 Population</th>\n",
       "      <th>Area (km²)</th>\n",
       "      <th>Continent Density</th>\n",
       "    </tr>\n",
       "  </thead>\n",
       "  <tbody>\n",
       "    <tr>\n",
       "      <th>0</th>\n",
       "      <td>Africa</td>\n",
       "      <td>1426730932</td>\n",
       "      <td>30317963</td>\n",
       "      <td>47.058931</td>\n",
       "    </tr>\n",
       "    <tr>\n",
       "      <th>1</th>\n",
       "      <td>Asia</td>\n",
       "      <td>4721383274</td>\n",
       "      <td>32138141</td>\n",
       "      <td>146.909035</td>\n",
       "    </tr>\n",
       "    <tr>\n",
       "      <th>2</th>\n",
       "      <td>Europe</td>\n",
       "      <td>743147538</td>\n",
       "      <td>23010411</td>\n",
       "      <td>32.296144</td>\n",
       "    </tr>\n",
       "    <tr>\n",
       "      <th>3</th>\n",
       "      <td>North America</td>\n",
       "      <td>600296136</td>\n",
       "      <td>24244178</td>\n",
       "      <td>24.760424</td>\n",
       "    </tr>\n",
       "    <tr>\n",
       "      <th>4</th>\n",
       "      <td>Oceania</td>\n",
       "      <td>45038554</td>\n",
       "      <td>8515081</td>\n",
       "      <td>5.289269</td>\n",
       "    </tr>\n",
       "    <tr>\n",
       "      <th>5</th>\n",
       "      <td>South America</td>\n",
       "      <td>436816608</td>\n",
       "      <td>17833382</td>\n",
       "      <td>24.494322</td>\n",
       "    </tr>\n",
       "  </tbody>\n",
       "</table>\n",
       "</div>"
      ],
      "text/plain": [
       "       Continent  2022 Population  Area (km²)  Continent Density\n",
       "0         Africa       1426730932    30317963          47.058931\n",
       "1           Asia       4721383274    32138141         146.909035\n",
       "2         Europe        743147538    23010411          32.296144\n",
       "3  North America        600296136    24244178          24.760424\n",
       "4        Oceania         45038554     8515081           5.289269\n",
       "5  South America        436816608    17833382          24.494322"
      ]
     },
     "execution_count": 37,
     "metadata": {},
     "output_type": "execute_result"
    }
   ],
   "source": [
    "group_Continent_by_density"
   ]
  },
  {
   "cell_type": "code",
   "execution_count": 45,
   "id": "7b113866",
   "metadata": {},
   "outputs": [
    {
     "data": {
      "image/png": "[encoded data removed]",
      "text/plain": [
       "<Figure size 936x360 with 1 Axes>"
      ]
     },
     "metadata": {
      "needs_background": "light"
     },
     "output_type": "display_data"
    }
   ],
   "source": [
    "plt.figure(figsize=(13,5))\n",
    "plt.bar(group_Continent_by_density['Continent'], group_Continent_by_density['Continent Density'],width=0.7, color='b' )\n",
    "\n",
    "plt.xlabel('Continents')\n",
    "plt.ylabel('Density')\n",
    "plt.show()"
   ]
  },
  {
   "cell_type": "markdown",
   "id": "62c57d2e",
   "metadata": {},
   "source": [
    "#### Continents with density of pupulation per square km"
   ]
  },
  {
   "cell_type": "code",
   "execution_count": 46,
   "id": "3270ae45",
   "metadata": {},
   "outputs": [],
   "source": [
    "group_Continent_by_percentage=df.groupby('Continent').agg({'World Population Percentage':'sum'}).reset_index()"
   ]
  },
  {
   "cell_type": "code",
   "execution_count": 47,
   "id": "afbf8c89",
   "metadata": {},
   "outputs": [
    {
     "data": {
      "text/html": [
       "<div>\n",
       "<style scoped>\n",
       "    .dataframe tbody tr th:only-of-type {\n",
       "        vertical-align: middle;\n",
       "    }\n",
       "\n",
       "    .dataframe tbody tr th {\n",
       "        vertical-align: top;\n",
       "    }\n",
       "\n",
       "    .dataframe thead th {\n",
       "        text-align: right;\n",
       "    }\n",
       "</style>\n",
       "<table border=\"1\" class=\"dataframe\">\n",
       "  <thead>\n",
       "    <tr style=\"text-align: right;\">\n",
       "      <th></th>\n",
       "      <th>Continent</th>\n",
       "      <th>World Population Percentage</th>\n",
       "    </tr>\n",
       "  </thead>\n",
       "  <tbody>\n",
       "    <tr>\n",
       "      <th>0</th>\n",
       "      <td>Africa</td>\n",
       "      <td>17.87</td>\n",
       "    </tr>\n",
       "    <tr>\n",
       "      <th>1</th>\n",
       "      <td>Asia</td>\n",
       "      <td>59.19</td>\n",
       "    </tr>\n",
       "    <tr>\n",
       "      <th>2</th>\n",
       "      <td>Europe</td>\n",
       "      <td>9.33</td>\n",
       "    </tr>\n",
       "    <tr>\n",
       "      <th>3</th>\n",
       "      <td>North America</td>\n",
       "      <td>7.51</td>\n",
       "    </tr>\n",
       "    <tr>\n",
       "      <th>4</th>\n",
       "      <td>Oceania</td>\n",
       "      <td>0.55</td>\n",
       "    </tr>\n",
       "    <tr>\n",
       "      <th>5</th>\n",
       "      <td>South America</td>\n",
       "      <td>5.48</td>\n",
       "    </tr>\n",
       "  </tbody>\n",
       "</table>\n",
       "</div>"
      ],
      "text/plain": [
       "       Continent  World Population Percentage\n",
       "0         Africa                        17.87\n",
       "1           Asia                        59.19\n",
       "2         Europe                         9.33\n",
       "3  North America                         7.51\n",
       "4        Oceania                         0.55\n",
       "5  South America                         5.48"
      ]
     },
     "execution_count": 47,
     "metadata": {},
     "output_type": "execute_result"
    }
   ],
   "source": [
    "group_Continent_by_percentage"
   ]
  },
  {
   "cell_type": "code",
   "execution_count": 48,
   "id": "98f1f96e",
   "metadata": {
    "scrolled": true
   },
   "outputs": [
    {
     "data": {
      "image/png": "[encoded data removed]",
      "text/plain": [
       "<Figure size 936x360 with 1 Axes>"
      ]
     },
     "metadata": {
      "needs_background": "light"
     },
     "output_type": "display_data"
    }
   ],
   "source": [
    "plt.figure(figsize=(13,5))\n",
    "plt.bar(group_Continent_by_percentage['Continent'], group_Continent_by_percentage['World Population Percentage'],width=0.7, color='b' )\n",
    "\n",
    "plt.xlabel('Continents')\n",
    "plt.ylabel('World Population Percentage')\n",
    "plt.show()"
   ]
  },
  {
   "cell_type": "markdown",
   "id": "38559a41",
   "metadata": {},
   "source": [
    "#### Continents with world population Persentage"
   ]
  },
  {
   "cell_type": "code",
   "execution_count": 49,
   "id": "836f450e",
   "metadata": {},
   "outputs": [
    {
     "data": {
      "image/png": "[encoded data removed]",
      "text/plain": [
       "<Figure size 936x360 with 1 Axes>"
      ]
     },
     "metadata": {
      "needs_background": "light"
     },
     "output_type": "display_data"
    }
   ],
   "source": [
    "plt.figure(figsize=(13,5))\n",
    "plt.bar(group_Continent_by_density['Continent'], group_Continent_by_density['Area (km²)'],width=0.7, color='b' )\n",
    "\n",
    "plt.xlabel('Continents')\n",
    "plt.ylabel('Area')\n",
    "plt.show()"
   ]
  },
  {
   "cell_type": "markdown",
   "id": "6777b4cb",
   "metadata": {},
   "source": [
    "#### Area of Continents"
   ]
  },
  {
   "cell_type": "code",
   "execution_count": 50,
   "id": "2867c5c5",
   "metadata": {},
   "outputs": [],
   "source": [
    "df_sorted = df.sort_values(by='Rank', ascending=True)"
   ]
  },
  {
   "cell_type": "code",
   "execution_count": 79,
   "id": "7d8ca11e",
   "metadata": {
    "scrolled": true
   },
   "outputs": [],
   "source": [
    "df_sorted=df_sorted.reset_index()\n",
    "df_sorted.set_index('Rank', inplace=True)"
   ]
  },
  {
   "cell_type": "code",
   "execution_count": 81,
   "id": "e50d77e2",
   "metadata": {},
   "outputs": [],
   "source": [
    "df_sorted=df_sorted.reset_index()"
   ]
  },
  {
   "cell_type": "code",
   "execution_count": 93,
   "id": "eccd02a2",
   "metadata": {
    "scrolled": true
   },
   "outputs": [
    {
     "data": {
      "text/html": [
       "<div>\n",
       "<style scoped>\n",
       "    .dataframe tbody tr th:only-of-type {\n",
       "        vertical-align: middle;\n",
       "    }\n",
       "\n",
       "    .dataframe tbody tr th {\n",
       "        vertical-align: top;\n",
       "    }\n",
       "\n",
       "    .dataframe thead th {\n",
       "        text-align: right;\n",
       "    }\n",
       "</style>\n",
       "<table border=\"1\" class=\"dataframe\">\n",
       "  <thead>\n",
       "    <tr style=\"text-align: right;\">\n",
       "      <th></th>\n",
       "      <th>Rank</th>\n",
       "      <th>CCA3</th>\n",
       "      <th>Country/Territory</th>\n",
       "      <th>Capital</th>\n",
       "      <th>Continent</th>\n",
       "      <th>2022 Population</th>\n",
       "      <th>2020 Population</th>\n",
       "      <th>2015 Population</th>\n",
       "      <th>2010 Population</th>\n",
       "      <th>2000 Population</th>\n",
       "      <th>1990 Population</th>\n",
       "      <th>1980 Population</th>\n",
       "      <th>1970 Population</th>\n",
       "      <th>Area (km²)</th>\n",
       "      <th>Density (per km²)</th>\n",
       "      <th>Growth Rate</th>\n",
       "      <th>World Population Percentage</th>\n",
       "    </tr>\n",
       "  </thead>\n",
       "  <tbody>\n",
       "    <tr>\n",
       "      <th>0</th>\n",
       "      <td>1</td>\n",
       "      <td>CHN</td>\n",
       "      <td>China</td>\n",
       "      <td>Beijing</td>\n",
       "      <td>Asia</td>\n",
       "      <td>1425887337</td>\n",
       "      <td>1424929781</td>\n",
       "      <td>1393715448</td>\n",
       "      <td>1348191368</td>\n",
       "      <td>1264099069</td>\n",
       "      <td>1153704252</td>\n",
       "      <td>982372466</td>\n",
       "      <td>822534450</td>\n",
       "      <td>9706961</td>\n",
       "      <td>146.8933</td>\n",
       "      <td>1.0000</td>\n",
       "      <td>17.88</td>\n",
       "    </tr>\n",
       "    <tr>\n",
       "      <th>1</th>\n",
       "      <td>2</td>\n",
       "      <td>IND</td>\n",
       "      <td>India</td>\n",
       "      <td>New Delhi</td>\n",
       "      <td>Asia</td>\n",
       "      <td>1417173173</td>\n",
       "      <td>1396387127</td>\n",
       "      <td>1322866505</td>\n",
       "      <td>1240613620</td>\n",
       "      <td>1059633675</td>\n",
       "      <td>870452165</td>\n",
       "      <td>696828385</td>\n",
       "      <td>557501301</td>\n",
       "      <td>3287590</td>\n",
       "      <td>431.0675</td>\n",
       "      <td>1.0068</td>\n",
       "      <td>17.77</td>\n",
       "    </tr>\n",
       "    <tr>\n",
       "      <th>2</th>\n",
       "      <td>3</td>\n",
       "      <td>USA</td>\n",
       "      <td>United States</td>\n",
       "      <td>Washington, D.C.</td>\n",
       "      <td>North America</td>\n",
       "      <td>338289857</td>\n",
       "      <td>335942003</td>\n",
       "      <td>324607776</td>\n",
       "      <td>311182845</td>\n",
       "      <td>282398554</td>\n",
       "      <td>248083732</td>\n",
       "      <td>223140018</td>\n",
       "      <td>200328340</td>\n",
       "      <td>9372610</td>\n",
       "      <td>36.0935</td>\n",
       "      <td>1.0038</td>\n",
       "      <td>4.24</td>\n",
       "    </tr>\n",
       "    <tr>\n",
       "      <th>3</th>\n",
       "      <td>4</td>\n",
       "      <td>IDN</td>\n",
       "      <td>Indonesia</td>\n",
       "      <td>Jakarta</td>\n",
       "      <td>Asia</td>\n",
       "      <td>275501339</td>\n",
       "      <td>271857970</td>\n",
       "      <td>259091970</td>\n",
       "      <td>244016173</td>\n",
       "      <td>214072421</td>\n",
       "      <td>182159874</td>\n",
       "      <td>148177096</td>\n",
       "      <td>115228394</td>\n",
       "      <td>1904569</td>\n",
       "      <td>144.6529</td>\n",
       "      <td>1.0064</td>\n",
       "      <td>3.45</td>\n",
       "    </tr>\n",
       "    <tr>\n",
       "      <th>4</th>\n",
       "      <td>5</td>\n",
       "      <td>PAK</td>\n",
       "      <td>Pakistan</td>\n",
       "      <td>Islamabad</td>\n",
       "      <td>Asia</td>\n",
       "      <td>235824862</td>\n",
       "      <td>227196741</td>\n",
       "      <td>210969298</td>\n",
       "      <td>194454498</td>\n",
       "      <td>154369924</td>\n",
       "      <td>115414069</td>\n",
       "      <td>80624057</td>\n",
       "      <td>59290872</td>\n",
       "      <td>881912</td>\n",
       "      <td>267.4018</td>\n",
       "      <td>1.0191</td>\n",
       "      <td>2.96</td>\n",
       "    </tr>\n",
       "    <tr>\n",
       "      <th>...</th>\n",
       "      <td>...</td>\n",
       "      <td>...</td>\n",
       "      <td>...</td>\n",
       "      <td>...</td>\n",
       "      <td>...</td>\n",
       "      <td>...</td>\n",
       "      <td>...</td>\n",
       "      <td>...</td>\n",
       "      <td>...</td>\n",
       "      <td>...</td>\n",
       "      <td>...</td>\n",
       "      <td>...</td>\n",
       "      <td>...</td>\n",
       "      <td>...</td>\n",
       "      <td>...</td>\n",
       "      <td>...</td>\n",
       "      <td>...</td>\n",
       "    </tr>\n",
       "    <tr>\n",
       "      <th>229</th>\n",
       "      <td>230</td>\n",
       "      <td>MSR</td>\n",
       "      <td>Montserrat</td>\n",
       "      <td>Brades</td>\n",
       "      <td>North America</td>\n",
       "      <td>4390</td>\n",
       "      <td>4500</td>\n",
       "      <td>5059</td>\n",
       "      <td>4938</td>\n",
       "      <td>5138</td>\n",
       "      <td>10805</td>\n",
       "      <td>11452</td>\n",
       "      <td>11402</td>\n",
       "      <td>102</td>\n",
       "      <td>43.0392</td>\n",
       "      <td>0.9939</td>\n",
       "      <td>0.00</td>\n",
       "    </tr>\n",
       "    <tr>\n",
       "      <th>230</th>\n",
       "      <td>231</td>\n",
       "      <td>FLK</td>\n",
       "      <td>Falkland Islands</td>\n",
       "      <td>Stanley</td>\n",
       "      <td>South America</td>\n",
       "      <td>3780</td>\n",
       "      <td>3747</td>\n",
       "      <td>3408</td>\n",
       "      <td>3187</td>\n",
       "      <td>3080</td>\n",
       "      <td>2332</td>\n",
       "      <td>2240</td>\n",
       "      <td>2274</td>\n",
       "      <td>12173</td>\n",
       "      <td>0.3105</td>\n",
       "      <td>1.0043</td>\n",
       "      <td>0.00</td>\n",
       "    </tr>\n",
       "    <tr>\n",
       "      <th>231</th>\n",
       "      <td>232</td>\n",
       "      <td>NIU</td>\n",
       "      <td>Niue</td>\n",
       "      <td>Alofi</td>\n",
       "      <td>Oceania</td>\n",
       "      <td>1934</td>\n",
       "      <td>1942</td>\n",
       "      <td>1847</td>\n",
       "      <td>1812</td>\n",
       "      <td>2074</td>\n",
       "      <td>2533</td>\n",
       "      <td>3637</td>\n",
       "      <td>5185</td>\n",
       "      <td>260</td>\n",
       "      <td>7.4385</td>\n",
       "      <td>0.9985</td>\n",
       "      <td>0.00</td>\n",
       "    </tr>\n",
       "    <tr>\n",
       "      <th>232</th>\n",
       "      <td>233</td>\n",
       "      <td>TKL</td>\n",
       "      <td>Tokelau</td>\n",
       "      <td>Nukunonu</td>\n",
       "      <td>Oceania</td>\n",
       "      <td>1871</td>\n",
       "      <td>1827</td>\n",
       "      <td>1454</td>\n",
       "      <td>1367</td>\n",
       "      <td>1666</td>\n",
       "      <td>1669</td>\n",
       "      <td>1647</td>\n",
       "      <td>1714</td>\n",
       "      <td>12</td>\n",
       "      <td>155.9167</td>\n",
       "      <td>1.0119</td>\n",
       "      <td>0.00</td>\n",
       "    </tr>\n",
       "    <tr>\n",
       "      <th>233</th>\n",
       "      <td>234</td>\n",
       "      <td>VAT</td>\n",
       "      <td>Vatican City</td>\n",
       "      <td>Vatican City</td>\n",
       "      <td>Europe</td>\n",
       "      <td>510</td>\n",
       "      <td>520</td>\n",
       "      <td>564</td>\n",
       "      <td>596</td>\n",
       "      <td>651</td>\n",
       "      <td>700</td>\n",
       "      <td>733</td>\n",
       "      <td>752</td>\n",
       "      <td>1</td>\n",
       "      <td>510.0000</td>\n",
       "      <td>0.9980</td>\n",
       "      <td>0.00</td>\n",
       "    </tr>\n",
       "  </tbody>\n",
       "</table>\n",
       "<p>234 rows × 17 columns</p>\n",
       "</div>"
      ],
      "text/plain": [
       "     Rank CCA3 Country/Territory           Capital      Continent  \\\n",
       "0       1  CHN             China           Beijing           Asia   \n",
       "1       2  IND             India         New Delhi           Asia   \n",
       "2       3  USA     United States  Washington, D.C.  North America   \n",
       "3       4  IDN         Indonesia           Jakarta           Asia   \n",
       "4       5  PAK          Pakistan         Islamabad           Asia   \n",
       "..    ...  ...               ...               ...            ...   \n",
       "229   230  MSR        Montserrat            Brades  North America   \n",
       "230   231  FLK  Falkland Islands           Stanley  South America   \n",
       "231   232  NIU              Niue             Alofi        Oceania   \n",
       "232   233  TKL           Tokelau          Nukunonu        Oceania   \n",
       "233   234  VAT      Vatican City      Vatican City         Europe   \n",
       "\n",
       "     2022 Population  2020 Population  2015 Population  2010 Population  \\\n",
       "0         1425887337       1424929781       1393715448       1348191368   \n",
       "1         1417173173       1396387127       1322866505       1240613620   \n",
       "2          338289857        335942003        324607776        311182845   \n",
       "3          275501339        271857970        259091970        244016173   \n",
       "4          235824862        227196741        210969298        194454498   \n",
       "..               ...              ...              ...              ...   \n",
       "229             4390             4500             5059             4938   \n",
       "230             3780             3747             3408             3187   \n",
       "231             1934             1942             1847             1812   \n",
       "232             1871             1827             1454             1367   \n",
       "233              510              520              564              596   \n",
       "\n",
       "     2000 Population  1990 Population  1980 Population  1970 Population  \\\n",
       "0         1264099069       1153704252        982372466        822534450   \n",
       "1         1059633675        870452165        696828385        557501301   \n",
       "2          282398554        248083732        223140018        200328340   \n",
       "3          214072421        182159874        148177096        115228394   \n",
       "4          154369924        115414069         80624057         59290872   \n",
       "..               ...              ...              ...              ...   \n",
       "229             5138            10805            11452            11402   \n",
       "230             3080             2332             2240             2274   \n",
       "231             2074             2533             3637             5185   \n",
       "232             1666             1669             1647             1714   \n",
       "233              651              700              733              752   \n",
       "\n",
       "     Area (km²)  Density (per km²)  Growth Rate  World Population Percentage  \n",
       "0       9706961           146.8933       1.0000                        17.88  \n",
       "1       3287590           431.0675       1.0068                        17.77  \n",
       "2       9372610            36.0935       1.0038                         4.24  \n",
       "3       1904569           144.6529       1.0064                         3.45  \n",
       "4        881912           267.4018       1.0191                         2.96  \n",
       "..          ...                ...          ...                          ...  \n",
       "229         102            43.0392       0.9939                         0.00  \n",
       "230       12173             0.3105       1.0043                         0.00  \n",
       "231         260             7.4385       0.9985                         0.00  \n",
       "232          12           155.9167       1.0119                         0.00  \n",
       "233           1           510.0000       0.9980                         0.00  \n",
       "\n",
       "[234 rows x 17 columns]"
      ]
     },
     "execution_count": 93,
     "metadata": {},
     "output_type": "execute_result"
    }
   ],
   "source": [
    "df_sorted"
   ]
  },
  {
   "cell_type": "code",
   "execution_count": 103,
   "id": "247b02e1",
   "metadata": {},
   "outputs": [],
   "source": [
    "df_1st_five1=df_sorted[df_sorted['Rank']<6]"
   ]
  },
  {
   "cell_type": "code",
   "execution_count": 104,
   "id": "cc37a674",
   "metadata": {},
   "outputs": [],
   "source": [
    "df_1st_five=df_1st_five1.drop(['Rank','CCA3', 'Capital', 'Continent','Area (km²)','Density (per km²)','Growth Rate','World Population Percentage'], axis=1)"
   ]
  },
  {
   "cell_type": "code",
   "execution_count": 105,
   "id": "89a52358",
   "metadata": {
    "scrolled": false
   },
   "outputs": [
    {
     "data": {
      "image/png": "[encoded data removed]",
      "text/plain": [
       "<Figure size 1080x432 with 1 Axes>"
      ]
     },
     "metadata": {
      "needs_background": "light"
     },
     "output_type": "display_data"
    }
   ],
   "source": [
    "Country = df_1st_five['Country/Territory']\n",
    "\n",
    "years = df_1st_five.columns[1:]\n",
    "\n",
    "plt.figure(figsize=(15, 6))\n",
    "\n",
    "for i, Country in enumerate(Country):\n",
    "    data_row = df_1st_five.iloc[i, 1:][::-1] \n",
    "    plt.plot(years[::-1], data_row, label=Country, marker='o')\n",
    "\n",
    "plt.xlabel('Year')\n",
    "plt.ylabel('Population')\n",
    "plt.title('Population of 1st Five Countries Over the Years')\n",
    "plt.legend()\n",
    "plt.grid()\n",
    "\n",
    "plt.show()"
   ]
  },
  {
   "cell_type": "markdown",
   "id": "427402f2",
   "metadata": {},
   "source": [
    "#### Population of 1st Five Countries Over the Years"
   ]
  },
  {
   "cell_type": "code",
   "execution_count": 109,
   "id": "569eae01",
   "metadata": {},
   "outputs": [],
   "source": [
    "df_growth_rate_top_contries=df_1st_five1[['Country/Territory','Growth Rate']]"
   ]
  },
  {
   "cell_type": "code",
   "execution_count": 110,
   "id": "8a178e83",
   "metadata": {},
   "outputs": [
    {
     "data": {
      "text/html": [
       "<div>\n",
       "<style scoped>\n",
       "    .dataframe tbody tr th:only-of-type {\n",
       "        vertical-align: middle;\n",
       "    }\n",
       "\n",
       "    .dataframe tbody tr th {\n",
       "        vertical-align: top;\n",
       "    }\n",
       "\n",
       "    .dataframe thead th {\n",
       "        text-align: right;\n",
       "    }\n",
       "</style>\n",
       "<table border=\"1\" class=\"dataframe\">\n",
       "  <thead>\n",
       "    <tr style=\"text-align: right;\">\n",
       "      <th></th>\n",
       "      <th>Country/Territory</th>\n",
       "      <th>Growth Rate</th>\n",
       "    </tr>\n",
       "  </thead>\n",
       "  <tbody>\n",
       "    <tr>\n",
       "      <th>0</th>\n",
       "      <td>China</td>\n",
       "      <td>1.0000</td>\n",
       "    </tr>\n",
       "    <tr>\n",
       "      <th>1</th>\n",
       "      <td>India</td>\n",
       "      <td>1.0068</td>\n",
       "    </tr>\n",
       "    <tr>\n",
       "      <th>2</th>\n",
       "      <td>United States</td>\n",
       "      <td>1.0038</td>\n",
       "    </tr>\n",
       "    <tr>\n",
       "      <th>3</th>\n",
       "      <td>Indonesia</td>\n",
       "      <td>1.0064</td>\n",
       "    </tr>\n",
       "    <tr>\n",
       "      <th>4</th>\n",
       "      <td>Pakistan</td>\n",
       "      <td>1.0191</td>\n",
       "    </tr>\n",
       "  </tbody>\n",
       "</table>\n",
       "</div>"
      ],
      "text/plain": [
       "  Country/Territory  Growth Rate\n",
       "0             China       1.0000\n",
       "1             India       1.0068\n",
       "2     United States       1.0038\n",
       "3         Indonesia       1.0064\n",
       "4          Pakistan       1.0191"
      ]
     },
     "execution_count": 110,
     "metadata": {},
     "output_type": "execute_result"
    }
   ],
   "source": [
    "df_growth_rate_top_contries"
   ]
  },
  {
   "cell_type": "code",
   "execution_count": 117,
   "id": "5552dff8",
   "metadata": {},
   "outputs": [
    {
     "data": {
      "image/png": "[encoded data removed]",
      "text/plain": [
       "<Figure size 1080x432 with 1 Axes>"
      ]
     },
     "metadata": {
      "needs_background": "light"
     },
     "output_type": "display_data"
    }
   ],
   "source": [
    "plt.figure(figsize=(15, 6))\n",
    "plt.plot(df_growth_rate_top_contries['Country/Territory'],df_growth_rate_top_contries['Growth Rate'])\n",
    "plt.xlabel('Contries')\n",
    "plt.ylabel('Growth Rate')\n",
    "plt.show()"
   ]
  },
  {
   "cell_type": "code",
   "execution_count": null,
   "id": "f2698089",
   "metadata": {},
   "outputs": [],
   "source": []
  }
 ],
 "metadata": {
  "kernelspec": {
   "display_name": "Python 3 (ipykernel)",
   "language": "python",
   "name": "python3"
  },
  "language_info": {
   "codemirror_mode": {
    "name": "ipython",
    "version": 3
   },
   "file_extension": ".py",
   "mimetype": "text/x-python",
   "name": "python",
   "nbconvert_exporter": "python",
   "pygments_lexer": "ipython3",
   "version": "3.9.12"
  }
 },
 "nbformat": 4,
 "nbformat_minor": 5
}
